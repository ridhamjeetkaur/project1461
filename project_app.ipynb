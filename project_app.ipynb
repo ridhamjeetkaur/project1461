{
 "cells": [
  {
   "cell_type": "code",
   "execution_count": 2,
   "id": "700c3424",
   "metadata": {},
   "outputs": [],
   "source": [
    "import pandas as pd\n",
    "import numpy as np\n",
    "import ipywidgets as ipy\n",
    "import streamlit as st\n",
    "from PIL import Image\n",
    "from sklearn.cluster import KMeans\n",
    "from sklearn.linear_model import LogisticRegression\n",
    "import time\n",
    "from   sklearn.model_selection import train_test_split"
   ]
  },
  {
   "cell_type": "code",
   "execution_count": 3,
   "id": "fb7698cc",
   "metadata": {},
   "outputs": [
    {
     "name": "stderr",
     "output_type": "stream",
     "text": [
      "2021-09-09 20:33:29.324 \n",
      "  \u001b[33m\u001b[1mWarning:\u001b[0m to view this Streamlit app on a browser, run it with the following\n",
      "  command:\n",
      "\n",
      "    streamlit run C:\\Users\\kaurr\\Anaconda3\\lib\\site-packages\\ipykernel_launcher.py [ARGUMENTS]\n",
      "C:\\Users\\kaurr\\Anaconda3\\lib\\site-packages\\sklearn\\linear_model\\_logistic.py:763: ConvergenceWarning: lbfgs failed to converge (status=1):\n",
      "STOP: TOTAL NO. of ITERATIONS REACHED LIMIT.\n",
      "\n",
      "Increase the number of iterations (max_iter) or scale the data as shown in:\n",
      "    https://scikit-learn.org/stable/modules/preprocessing.html\n",
      "Please also refer to the documentation for alternative solver options:\n",
      "    https://scikit-learn.org/stable/modules/linear_model.html#logistic-regression\n",
      "  n_iter_i = _check_optimize_result(\n"
     ]
    }
   ],
   "source": [
    "data = pd.read_csv('data.csv')\n",
    "image = Image.open('images.jpg')\n",
    "st.title('Predict the crops grown according to your climatic conditions')\n",
    "st.image(image,use_column_width=True)\n",
    "\n",
    "\n",
    "#checking the data\n",
    "st.write('This is an application that helps you to know that which crop you can grow....')\n",
    "check_box=st.checkbox('View the data')\n",
    "if check_box:\n",
    "    st.write(data.head(4))\n",
    "st.write(\"Let's check the prediction with other parameters\")\n",
    "\n",
    "# splitting your data\n",
    "data['N'].fillna(0,inplace=True)\n",
    "data['P'].fillna(1,inplace=True)\n",
    "data['K'].fillna(2,inplace=True)\n",
    "data['temperature'].fillna(3,inplace=True)\n",
    "data['humidity'].fillna(4,inplace=True)\n",
    "data['ph'].fillna(5,inplace=True)\n",
    "data['rainfall'].fillna(6,inplace=True)\n",
    "\n",
    "\n",
    "#X=data.iloc[:,:7]\n",
    "#y=data.iloc[:,-1]\n",
    "\n",
    "\n",
    "from   sklearn.model_selection import train_test_split\n",
    "\n",
    "y=data['label']\n",
    "X=data.drop('label',axis=1)\n",
    "X_train,X_test,y_train ,y_test = train_test_split(X,y,random_state=0,test_size=0.2)\n",
    "\n",
    "#input the no.\n",
    "N=st.slider('How much nitrogen content is present in your soil:',int(X.N.min()),int(X.N.max()),int(X.N.mean()))\n",
    "P=st.slider('How much phosphorus content is present in your soil:',int(X.P.min()),int(X.P.max()),int(X.P.mean()))\n",
    "K=st.slider('How much potassium content is present in your soil:',int(X.K.min()),int(X.K.max()),int(X.K.mean()))\n",
    "temp=st.slider('How much temperature is at your place:',int(X.temperature.min()),int(X.temperature.max()),int(X.temperature.mean()))\n",
    "hum=st.slider('How much humidity is at your place:',int(X.humidity.min()),int(X.humidity.max()),int(X.humidity.mean()))\n",
    "ph=st.slider('How much phis present in your soil:',int(X.ph.min()),int(X.ph.max()),int(X.ph.mean()))\n",
    "rain=st.slider('Rainfall at your place:',int(X.rainfall.min()),int(X.rainfall.max()),int(X.rainfall.mean()))\n",
    "\n",
    "\n",
    "model=LogisticRegression()\n",
    "model.fit(X_train,y_train)\n",
    "#model.fit(X,y)\n",
    "\n",
    "prediction = model.predict((np.array([[N,P,K,temp,hum,ph,rain]])))\n",
    "\n",
    "#checking the prediction\n",
    "if st.button('Predict the crop:'):\n",
    "    st.header(\"You can grow {}\".format(int(prediction)))"
   ]
  },
  {
   "cell_type": "code",
   "execution_count": null,
   "id": "e2ed5568",
   "metadata": {},
   "outputs": [],
   "source": []
  },
  {
   "cell_type": "code",
   "execution_count": null,
   "id": "c37d5cc3",
   "metadata": {},
   "outputs": [],
   "source": []
  }
 ],
 "metadata": {
  "kernelspec": {
   "display_name": "Python 3",
   "language": "python",
   "name": "python3"
  },
  "language_info": {
   "codemirror_mode": {
    "name": "ipython",
    "version": 3
   },
   "file_extension": ".py",
   "mimetype": "text/x-python",
   "name": "python",
   "nbconvert_exporter": "python",
   "pygments_lexer": "ipython3",
   "version": "3.8.8"
  }
 },
 "nbformat": 4,
 "nbformat_minor": 5
}
